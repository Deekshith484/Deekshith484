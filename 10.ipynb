{
  "cells": [
    {
      "cell_type": "markdown",
      "metadata": {
        "id": "view-in-github",
        "colab_type": "text"
      },
      "source": [
        "<a href=\"https://colab.research.google.com/github/deekshith-b48/Deekshith-b48/blob/main/10.ipynb\" target=\"_parent\"><img src=\"https://colab.research.google.com/assets/colab-badge.svg\" alt=\"Open In Colab\"/></a>"
      ]
    },
    {
      "cell_type": "markdown",
      "metadata": {
        "id": "NbEHeqYucK4H"
      },
      "source": [
        "## Unit 10 - List and Tuple Data Types"
      ]
    },
    {
      "cell_type": "markdown",
      "metadata": {
        "id": "1gJMURawcK4K"
      },
      "source": [
        "#### Keywords: List, Indexing, Slicing, in/not in operators and Tuple"
      ]
    },
    {
      "cell_type": "markdown",
      "metadata": {
        "id": "qvH3EfEjcK4S"
      },
      "source": [
        "## Mission"
      ]
    },
    {
      "cell_type": "code",
      "execution_count": 109,
      "metadata": {
        "id": "O85hINzrcK4S",
        "outputId": "de7bd039-dd52-467e-e58b-1b23ded997bb",
        "colab": {
          "base_uri": "https://localhost:8080/"
        }
      },
      "outputs": [
        {
          "output_type": "stream",
          "name": "stdout",
          "text": [
            "the average age is 26.75\n"
          ]
        }
      ],
      "source": [
        "person1 = ['David Doe', 20, 1, 180.0, 100.0]\n",
        "person2 = ['John Smith', 25, 1, 170.0, 70.0]\n",
        "person3 = ['Jane Carter', 22, 0, 169.0, 60.0]\n",
        "person4 = ['Peter Kelly', 40, 1, 150.0, 50.0]\n",
        "\n",
        "person_list = person1 + person2 + person3 + person4\n",
        "\n",
        "n_persons = int(len(person_list) / 5)\n",
        "age_sum = 0.0\n",
        "for age in person_list[1::5]:\n",
        "    age_sum += age\n",
        "average_age = float(age_sum) / n_persons\n",
        "print('the average age is ' + str(average_age))"
      ]
    },
    {
      "cell_type": "markdown",
      "metadata": {
        "id": "0IfUQE2PcK4a"
      },
      "source": [
        "## Keyconcept"
      ]
    },
    {
      "cell_type": "markdown",
      "metadata": {
        "id": "7WudAIy-cK4a"
      },
      "source": [
        "## 1. List and Dictionary"
      ]
    },
    {
      "cell_type": "markdown",
      "metadata": {
        "id": "gEERwUUucK4b"
      },
      "source": [
        "#### 1.1. Efficient data processing"
      ]
    },
    {
      "cell_type": "code",
      "execution_count": 3,
      "metadata": {
        "id": "pY1CNSOKcK4b",
        "outputId": "a7df25d1-dd95-4cc2-e63f-011891a3790a",
        "colab": {
          "base_uri": "https://localhost:8080/"
        }
      },
      "outputs": [
        {
          "output_type": "stream",
          "name": "stdout",
          "text": [
            "88 67\n"
          ]
        }
      ],
      "source": [
        "score0 = 87\n",
        "score1 = 84\n",
        "score2 = 95\n",
        "score3 = 67\n",
        "score4 = 88\n",
        "score5 = 94\n",
        "score6 = 63\n",
        "print(score4, score3)"
      ]
    },
    {
      "cell_type": "markdown",
      "metadata": {
        "id": "5SgTNdEacK4c"
      },
      "source": [
        "## 2. List Declaration"
      ]
    },
    {
      "cell_type": "markdown",
      "metadata": {
        "id": "pxGYnP8ocK4d"
      },
      "source": [
        "#### 2.1. What is list?"
      ]
    },
    {
      "cell_type": "code",
      "execution_count": 4,
      "metadata": {
        "id": "kCb6KOsbcK4d",
        "outputId": "b764f481-6e9e-4cfb-f186-0b9368125ca7",
        "colab": {
          "base_uri": "https://localhost:8080/"
        }
      },
      "outputs": [
        {
          "output_type": "execute_result",
          "data": {
            "text/plain": [
              "[87, 84, 95, 67, 88, 94, 63]"
            ]
          },
          "metadata": {},
          "execution_count": 4
        }
      ],
      "source": [
        "score_list = [87, 84, 95, 67, 88, 94, 63]\n",
        "score_list"
      ]
    },
    {
      "cell_type": "code",
      "execution_count": 5,
      "metadata": {
        "id": "ovsvCVGqcK4e",
        "outputId": "276f291f-4406-47d6-80bb-591f0813bd43",
        "colab": {
          "base_uri": "https://localhost:8080/"
        }
      },
      "outputs": [
        {
          "output_type": "stream",
          "name": "stdout",
          "text": [
            "87 67\n"
          ]
        }
      ],
      "source": [
        "score_list = [87, 84, 95, 67, 88, 94, 63]\n",
        "print(score_list[0], score_list[3])"
      ]
    },
    {
      "cell_type": "markdown",
      "metadata": {
        "id": "5eflhfEncK4e"
      },
      "source": [
        "#### 2.2. List and index"
      ]
    },
    {
      "cell_type": "code",
      "execution_count": 7,
      "metadata": {
        "id": "toYJkEmJcK4f",
        "outputId": "07f95325-9690-4bce-e640-7d7fbf7028e1",
        "colab": {
          "base_uri": "https://localhost:8080/"
        }
      },
      "outputs": [
        {
          "output_type": "stream",
          "name": "stdout",
          "text": [
            "['banana', 'apple', 'orange', 'kiwi']\n",
            "[100, 200, 'apple', 400]\n"
          ]
        }
      ],
      "source": [
        "fruits = ['banana', 'apple', 'orange', 'kiwi'] # list with strings\n",
        "print(fruits)\n",
        "mixed_list = [100, 200, 'apple', 400] # Python list can have different data types including integers, real numbers, strings, etc.\n",
        "print(mixed_list)"
      ]
    },
    {
      "cell_type": "markdown",
      "metadata": {
        "id": "R-lLMd_0cK4f"
      },
      "source": [
        "#### 2.3. The range function to create a sequence"
      ]
    },
    {
      "cell_type": "code",
      "execution_count": 8,
      "metadata": {
        "id": "8GHWBFjycK4g",
        "outputId": "35a3a1bf-34e2-4ba7-ff53-c5416603e057",
        "colab": {
          "base_uri": "https://localhost:8080/"
        }
      },
      "outputs": [
        {
          "output_type": "execute_result",
          "data": {
            "text/plain": [
              "[1, 2, 3, 4, 5, 6, 7, 8, 9]"
            ]
          },
          "metadata": {},
          "execution_count": 8
        }
      ],
      "source": [
        "list4 = list(range(1, 10))\n",
        "list4"
      ]
    },
    {
      "cell_type": "markdown",
      "metadata": {
        "id": "4ZBEcr59cK4g"
      },
      "source": [
        "## 3. List and Indexing and Calculating Length"
      ]
    },
    {
      "cell_type": "markdown",
      "metadata": {
        "id": "ACjXJrfccK4g"
      },
      "source": [
        "#### 3.1. Definitions: List, index, indexing"
      ]
    },
    {
      "cell_type": "markdown",
      "metadata": {
        "id": "YuqUEaNEcK4h"
      },
      "source": [
        "\n",
        "List is a data structure that can hold a single value in a single variable or data value.\n",
        "\n",
        "- It is much more convenient and efficient than writing and handling multiple variable names.\n",
        "- Duplication and operation can be done at one time.\n",
        "\n",
        "element or item\n",
        "\n",
        "- The items or elements form a list.\n",
        "- Data values are distinguished with a comma to save them.\n",
        "- The reference is importing the list and uses the index.\n",
        "- The declaration of the list and the reference of the elements can be done as follows"
      ]
    },
    {
      "cell_type": "markdown",
      "metadata": {
        "id": "jba2u15ScK4h"
      },
      "source": [
        "#### 3.2. List indexing and calculating length"
      ]
    },
    {
      "cell_type": "code",
      "execution_count": 9,
      "metadata": {
        "id": "37YV7dk1cK4h",
        "outputId": "c94fb0e5-34f3-48f3-9bbf-b6d17b19b0ec",
        "colab": {
          "base_uri": "https://localhost:8080/"
        }
      },
      "outputs": [
        {
          "output_type": "stream",
          "name": "stdout",
          "text": [
            "[11, 22, 33, 44, 55, 66]\n",
            "6\n"
          ]
        }
      ],
      "source": [
        "n_list = [11, 22, 33, 44, 55, 66]\n",
        "print(n_list)\n",
        "print(len(n_list))"
      ]
    },
    {
      "cell_type": "code",
      "execution_count": 14,
      "metadata": {
        "id": "jtZz6O0tcK4i",
        "outputId": "3849da09-dd0d-421c-b9c2-d3cd1362d166",
        "colab": {
          "base_uri": "https://localhost:8080/"
        }
      },
      "outputs": [
        {
          "output_type": "execute_result",
          "data": {
            "text/plain": [
              "66"
            ]
          },
          "metadata": {},
          "execution_count": 14
        }
      ],
      "source": [
        "n_list[5] # The index of the first item of list is 0"
      ]
    },
    {
      "cell_type": "code",
      "execution_count": 15,
      "metadata": {
        "id": "8drt_s1YcK4i",
        "outputId": "fbcffaed-905d-4178-b36d-e4e0b5d9bcf3",
        "colab": {
          "base_uri": "https://localhost:8080/"
        }
      },
      "outputs": [
        {
          "output_type": "execute_result",
          "data": {
            "text/plain": [
              "33"
            ]
          },
          "metadata": {},
          "execution_count": 15
        }
      ],
      "source": [
        "n_list[2] # The index of the second item of list is 1"
      ]
    },
    {
      "cell_type": "markdown",
      "metadata": {
        "id": "VRyE7XjLcK4j"
      },
      "source": [
        "#### 3.3. Cautions in list indexing"
      ]
    },
    {
      "cell_type": "code",
      "execution_count": 16,
      "metadata": {
        "id": "qv653LYZcK4j",
        "outputId": "a29d08d2-566b-4455-b581-669a25ddbfad",
        "colab": {
          "base_uri": "https://localhost:8080/"
        }
      },
      "outputs": [
        {
          "output_type": "execute_result",
          "data": {
            "text/plain": [
              "66"
            ]
          },
          "metadata": {},
          "execution_count": 16
        }
      ],
      "source": [
        "n_list = [11, 22, 33, 44, 55, 66] # index with 6 elements\n",
        "n_list[5]                         # The last element value of the list"
      ]
    },
    {
      "cell_type": "code",
      "execution_count": 18,
      "metadata": {
        "id": "Ewsk7wTOcK4j",
        "outputId": "e282246b-3f26-40a9-ed83-4079eec8128e",
        "colab": {
          "base_uri": "https://localhost:8080/"
        }
      },
      "outputs": [
        {
          "output_type": "execute_result",
          "data": {
            "text/plain": [
              "33"
            ]
          },
          "metadata": {},
          "execution_count": 18
        }
      ],
      "source": [
        "n_list[2]"
      ]
    },
    {
      "cell_type": "markdown",
      "metadata": {
        "id": "e8Ez3Gw_cK4k"
      },
      "source": [
        "#### 3.4. Negative index"
      ]
    },
    {
      "cell_type": "code",
      "execution_count": 19,
      "metadata": {
        "id": "BrFUfBM0cK4k"
      },
      "outputs": [],
      "source": [
        "n_list = [11, 22, 33, 44, 55, 66]"
      ]
    },
    {
      "cell_type": "code",
      "execution_count": 21,
      "metadata": {
        "id": "0d3_DbM5cK4k",
        "outputId": "dfc5f6f6-d1ca-463f-8804-1a0b660b7fd0",
        "colab": {
          "base_uri": "https://localhost:8080/"
        }
      },
      "outputs": [
        {
          "output_type": "execute_result",
          "data": {
            "text/plain": [
              "55"
            ]
          },
          "metadata": {},
          "execution_count": 21
        }
      ],
      "source": [
        "n_list[-2]"
      ]
    },
    {
      "cell_type": "code",
      "execution_count": 22,
      "metadata": {
        "id": "PtvSNhxFcK4l",
        "outputId": "f9287baf-c2f1-474a-feb1-2661dc649df7",
        "colab": {
          "base_uri": "https://localhost:8080/"
        }
      },
      "outputs": [
        {
          "output_type": "execute_result",
          "data": {
            "text/plain": [
              "44"
            ]
          },
          "metadata": {},
          "execution_count": 22
        }
      ],
      "source": [
        "n_list[-3]"
      ]
    },
    {
      "cell_type": "markdown",
      "metadata": {
        "id": "4hBAsIjhcK4l"
      },
      "source": [
        "## 4. Addition, Deletion, and Expansion of List Elements"
      ]
    },
    {
      "cell_type": "markdown",
      "metadata": {
        "id": "ETjhpoOlcK4l"
      },
      "source": [
        "## 4.1. + calculation to add lists"
      ]
    },
    {
      "cell_type": "code",
      "execution_count": 23,
      "metadata": {
        "id": "2DHc0aOkcK4m",
        "outputId": "df0788e4-125b-4b9c-9689-a1ba8248f725",
        "colab": {
          "base_uri": "https://localhost:8080/"
        }
      },
      "outputs": [
        {
          "output_type": "stream",
          "name": "stdout",
          "text": [
            "['David Doe', 20, 1, 180.0, 100.0, 'John Smith', 25, 1, 170.0, 70.0]\n"
          ]
        }
      ],
      "source": [
        "person1 = ['David Doe', 20, 1, 180.0, 100.0]\n",
        "person2 = ['John Smith', 25, 1, 170.0, 70.0]\n",
        "\n",
        "person_list = person1 + person2 # add items of two lists to make a single list\n",
        "print(person_list)"
      ]
    },
    {
      "cell_type": "markdown",
      "metadata": {
        "id": "FLLArbT3cK4m"
      },
      "source": [
        "#### 4.2. The append method for list element addition"
      ]
    },
    {
      "cell_type": "code",
      "execution_count": 24,
      "metadata": {
        "id": "F4n8oRqNcK4n",
        "outputId": "94d10e9a-5820-4eaa-e121-38ea06c727ad",
        "colab": {
          "base_uri": "https://localhost:8080/"
        }
      },
      "outputs": [
        {
          "output_type": "execute_result",
          "data": {
            "text/plain": [
              "['a', 'b', 'c', 'd', 'e', 'f']"
            ]
          },
          "metadata": {},
          "execution_count": 24
        }
      ],
      "source": [
        "a_list = ['a', 'b', 'c', 'd', 'e']\n",
        "a_list.append('f') # add 'f'\n",
        "a_list"
      ]
    },
    {
      "cell_type": "code",
      "execution_count": 25,
      "metadata": {
        "id": "wvUNe7S9cK4n",
        "outputId": "c024258f-829d-4003-a8cd-42f29430658b",
        "colab": {
          "base_uri": "https://localhost:8080/"
        }
      },
      "outputs": [
        {
          "output_type": "execute_result",
          "data": {
            "text/plain": [
              "[10, 20, 30, 40, 50]"
            ]
          },
          "metadata": {},
          "execution_count": 25
        }
      ],
      "source": [
        "n_list = [10, 20, 30, 40]\n",
        "n_list.append(50) # add 50\n",
        "n_list"
      ]
    },
    {
      "cell_type": "markdown",
      "metadata": {
        "id": "nBiloEvTcK4n"
      },
      "source": [
        "#### 4.3. The extend method for list elements addition"
      ]
    },
    {
      "cell_type": "code",
      "execution_count": 26,
      "metadata": {
        "id": "dLolx1O7cK4o",
        "outputId": "f7b1b7e7-c135-43bb-ecb4-d231e68da8a7",
        "colab": {
          "base_uri": "https://localhost:8080/"
        }
      },
      "outputs": [
        {
          "output_type": "execute_result",
          "data": {
            "text/plain": [
              "['a', 'b', 'c', 1, 2, 3]"
            ]
          },
          "metadata": {},
          "execution_count": 26
        }
      ],
      "source": [
        "\n",
        "list1 = ['a', 'b', 'c']\n",
        "list2 = [1, 2, 3]\n",
        "list1.extend(list2)\n",
        "list1"
      ]
    },
    {
      "cell_type": "code",
      "execution_count": 27,
      "metadata": {
        "id": "UfFCRk-ucK4o",
        "outputId": "f8f15507-5319-4ca0-cd1c-b7a3d2504dac",
        "colab": {
          "base_uri": "https://localhost:8080/"
        }
      },
      "outputs": [
        {
          "output_type": "execute_result",
          "data": {
            "text/plain": [
              "['a', 'b', 'c', 1, 2, 3, 'd']"
            ]
          },
          "metadata": {},
          "execution_count": 27
        }
      ],
      "source": [
        "list1.extend('d')\n",
        "list1"
      ]
    },
    {
      "cell_type": "code",
      "execution_count": 28,
      "metadata": {
        "id": "II0YkSRWcK41",
        "outputId": "27afdf9b-a61e-4f3b-c3e5-f0e3a5376e61",
        "colab": {
          "base_uri": "https://localhost:8080/"
        }
      },
      "outputs": [
        {
          "output_type": "execute_result",
          "data": {
            "text/plain": [
              "[11, 22, 33, 44, [55, 66]]"
            ]
          },
          "metadata": {},
          "execution_count": 28
        }
      ],
      "source": [
        "list1 = [11, 22, 33, 44]\n",
        "list1.append([55, 66])\n",
        "list1"
      ]
    },
    {
      "cell_type": "code",
      "execution_count": 29,
      "metadata": {
        "id": "tpRvmRShcK41",
        "outputId": "6017b2b8-2b06-43b7-92f8-daa3eba54a56",
        "colab": {
          "base_uri": "https://localhost:8080/"
        }
      },
      "outputs": [
        {
          "output_type": "execute_result",
          "data": {
            "text/plain": [
              "[11, 22, 33, 44, 55, 66]"
            ]
          },
          "metadata": {},
          "execution_count": 29
        }
      ],
      "source": [
        "list1 = [11, 22, 33, 44]\n",
        "list1.extend([55, 66])\n",
        "list1"
      ]
    },
    {
      "cell_type": "markdown",
      "metadata": {
        "id": "z7Z0-cZtcK42"
      },
      "source": [
        "#### 4.4. Methods to delete list element"
      ]
    },
    {
      "cell_type": "markdown",
      "metadata": {
        "id": "DOxVQ2IXcK42"
      },
      "source": [
        "#### 4.5. Deletion with the del keyword"
      ]
    },
    {
      "cell_type": "code",
      "execution_count": 30,
      "metadata": {
        "id": "Y198GNnFcK42",
        "outputId": "d483efff-78e8-4997-f9d9-4dc4fc7a9478",
        "colab": {
          "base_uri": "https://localhost:8080/"
        }
      },
      "outputs": [
        {
          "output_type": "stream",
          "name": "stdout",
          "text": [
            "[11, 22, 33, 44]\n",
            "[11, 22, 33]\n"
          ]
        }
      ],
      "source": [
        "n_list = [11, 22, 33, 44]\n",
        "print(n_list) # print the entire items\n",
        "\n",
        "del n_list[3] # Delete 44\n",
        "print(n_list)"
      ]
    },
    {
      "cell_type": "markdown",
      "metadata": {
        "id": "En-vfufgcK43"
      },
      "source": [
        "#### 4.6. Deletion with the pop method"
      ]
    },
    {
      "cell_type": "code",
      "execution_count": 31,
      "metadata": {
        "id": "XnOE_vMZcK43",
        "outputId": "0585f910-77a3-4665-a8ee-5a9a26ef45d8",
        "colab": {
          "base_uri": "https://localhost:8080/"
        }
      },
      "outputs": [
        {
          "output_type": "stream",
          "name": "stdout",
          "text": [
            "[10, 20, 30]\n"
          ]
        }
      ],
      "source": [
        "n_list = [10, 20, 30]\n",
        "print(n_list) # print the entire items"
      ]
    },
    {
      "cell_type": "code",
      "execution_count": 32,
      "metadata": {
        "id": "cxRH0guQcK44",
        "outputId": "1d91f28b-4199-49e9-e801-4ff653284984",
        "colab": {
          "base_uri": "https://localhost:8080/"
        }
      },
      "outputs": [
        {
          "output_type": "stream",
          "name": "stdout",
          "text": [
            "n = 30\n",
            "n_list = [10, 20]\n"
          ]
        }
      ],
      "source": [
        "n = n_list.pop()\n",
        "print('n =', n)\n",
        "print('n_list =', n_list)"
      ]
    },
    {
      "cell_type": "markdown",
      "metadata": {
        "id": "KroyTpnUcK44"
      },
      "source": [
        "#### 4.7. Deletion with the remove method"
      ]
    },
    {
      "cell_type": "code",
      "execution_count": 33,
      "metadata": {
        "id": "nCr1TlyScK44",
        "outputId": "63b65138-c98e-4fd9-fe2d-5e23bcc69467",
        "colab": {
          "base_uri": "https://localhost:8080/"
        }
      },
      "outputs": [
        {
          "output_type": "stream",
          "name": "stdout",
          "text": [
            "[11, 22, 33, 44, 55, 66]\n",
            "[11, 22, 33, 55, 66]\n"
          ]
        }
      ],
      "source": [
        "n_list = [11, 22, 33, 44, 55, 66]\n",
        "print(n_list)\n",
        "\n",
        "n_list.remove(44)\n",
        "print(n_list)"
      ]
    },
    {
      "cell_type": "markdown",
      "metadata": {
        "id": "TRoKMThzcK45"
      },
      "source": [
        "#### 4.8. Cautions when deleting with the remove method"
      ]
    },
    {
      "cell_type": "code",
      "execution_count": 37,
      "metadata": {
        "id": "Lgg2zqJOcK45",
        "outputId": "8618cc2d-44dd-4fd8-d4d0-e17aa244b473",
        "colab": {
          "base_uri": "https://localhost:8080/"
        }
      },
      "outputs": [
        {
          "output_type": "stream",
          "name": "stdout",
          "text": [
            "[11, 22, 33, 44, 55, 66]\n",
            "[11, 22, 33, 55, 66]\n"
          ]
        }
      ],
      "source": [
        "n_list = [11, 22, 33, 44, 55, 66]\n",
        "print(n_list)\n",
        "\n",
        "n_list.remove(44)\n",
        "print(n_list)"
      ]
    },
    {
      "cell_type": "markdown",
      "metadata": {
        "id": "NMnPc_5CcK45"
      },
      "source": [
        "## 5. List Slicing"
      ]
    },
    {
      "cell_type": "markdown",
      "metadata": {
        "id": "Vja0qanncK46"
      },
      "source": [
        "#### 5.2. Slicing example"
      ]
    },
    {
      "cell_type": "code",
      "execution_count": 38,
      "metadata": {
        "id": "R98O9weTcK46",
        "outputId": "4e614729-b6bb-48b1-8a97-f494d02a5aac",
        "colab": {
          "base_uri": "https://localhost:8080/"
        }
      },
      "outputs": [
        {
          "output_type": "execute_result",
          "data": {
            "text/plain": [
              "[20, 30, 40, 50]"
            ]
          },
          "metadata": {},
          "execution_count": 38
        }
      ],
      "source": [
        "a_list = [10, 20, 30, 40, 50, 60, 70, 80]\n",
        "a_list[1:5] # index start from 1 end 5 so 1 -> 4 index will print out or sliced from the second element 20 to the fifth element 50."
      ]
    },
    {
      "cell_type": "code",
      "execution_count": 39,
      "metadata": {
        "id": "H5wcbaLBcK47",
        "outputId": "d3cd9663-bdaa-47e8-aefc-96061e7caab6",
        "colab": {
          "base_uri": "https://localhost:8080/"
        }
      },
      "outputs": [
        {
          "output_type": "execute_result",
          "data": {
            "text/plain": [
              "[10, 20, 30, 40, 50]"
            ]
          },
          "metadata": {},
          "execution_count": 39
        }
      ],
      "source": [
        "a_list[0:5] # index start from 0 end 5 so 0 -> 4 index will print out or sliced from the first element 10 to the fifth element 50."
      ]
    },
    {
      "cell_type": "code",
      "execution_count": 40,
      "metadata": {
        "id": "VBpUNuZgcK47",
        "outputId": "298eefcc-d1fb-4d7e-b80c-cb4ff792b04f",
        "colab": {
          "base_uri": "https://localhost:8080/"
        }
      },
      "outputs": [
        {
          "output_type": "execute_result",
          "data": {
            "text/plain": [
              "[20, 30, 40, 50, 60, 70, 80]"
            ]
          },
          "metadata": {},
          "execution_count": 40
        }
      ],
      "source": [
        "a_list[1:] # index start from 1 to the end so 1 -> 7 index will print out or sliced from the second element 20 to the last element."
      ]
    },
    {
      "cell_type": "code",
      "execution_count": 41,
      "metadata": {
        "id": "2BYY0hBscK48",
        "outputId": "1e28513a-68fa-485f-c3d1-05eb1d548e40",
        "colab": {
          "base_uri": "https://localhost:8080/"
        }
      },
      "outputs": [
        {
          "output_type": "execute_result",
          "data": {
            "text/plain": [
              "[10, 20, 30, 40, 50]"
            ]
          },
          "metadata": {},
          "execution_count": 41
        }
      ],
      "source": [
        "a_list[:5] # index start from 0 end 5 so 0 -> 4 index will print out or sliced from the first element 10 to the fifth element 50."
      ]
    },
    {
      "cell_type": "code",
      "execution_count": 42,
      "metadata": {
        "id": "XcLim1CGcK48",
        "outputId": "8e24bb99-3cdf-4eb3-a429-2f272c62d115",
        "colab": {
          "base_uri": "https://localhost:8080/"
        }
      },
      "outputs": [
        {
          "output_type": "execute_result",
          "data": {
            "text/plain": [
              "[10, 20, 30, 40, 50, 60, 70, 80]"
            ]
          },
          "metadata": {},
          "execution_count": 42
        }
      ],
      "source": [
        "a_list[:] # index start from 0 to the rest so 0 -> 7 will print out or omitting all indices, slice from the first element to the last element."
      ]
    },
    {
      "cell_type": "markdown",
      "metadata": {
        "id": "yrAtrEWicK49"
      },
      "source": [
        "#### 5.3. Summary of list slicing"
      ]
    },
    {
      "cell_type": "markdown",
      "metadata": {
        "id": "sxtiSjLncK49"
      },
      "source": [
        "Python tray supports negative indices and negative cutoff step values\n",
        "\n",
        "<table>\n",
        "<tr>\n",
        "   <td><strong>Syntax</strong></td>\n",
        "   <td><strong>Function</strong></td>\n",
        "<tr>\n",
        "   <td>a_list[start:end]</td>\n",
        "   <td>Slice elements from start to (end-1) (does not include end index elements)</td>\n",
        "<tr>\n",
        "   <td>a_list[start:]</td>\n",
        "   <td>Cutting from the beginning to the end of the list. Cutting off the end of the list.</td>\n",
        "<tr>\n",
        "   <td>a_list[:final]</td>\n",
        "   <td>Cutting from start to end index-1</td>\n",
        "<tr>\n",
        "   <td>a_list[:]</td>\n",
        "   <td>Severing the entire list</td>\n",
        "</tr>\n",
        "   <td>a_list[start:end:steps]</td>\n",
        "   <td>Cutting a step from start to finish</td>\n",
        "</tr>\n",
        "   <td>a_list[-2:]</td>\n",
        "   <td>Cut two elements from the end</td>\n",
        "</tr>\n",
        "   <td>a_list[-2:]</td>\n",
        "   <td>Cut entire articles from the beginning, except the last two elements</td>\n",
        "</tr>\n",
        "   <td>a_list[::-1]</td>\n",
        "   <td>Import all articles but cut in reverse order</td>\n",
        "</tr>\n",
        "   <td>a_list[1::-1]</td>\n",
        "   <td>Slice the first two elements in reverse order</td>\n",
        "</tr>\n",
        "</table>"
      ]
    },
    {
      "cell_type": "markdown",
      "metadata": {
        "id": "iDZmHrMScK49"
      },
      "source": [
        "#### 5.4. List slicing with the start and end indices stated"
      ]
    },
    {
      "cell_type": "markdown",
      "metadata": {
        "id": "M3vbF7pIcK4-"
      },
      "source": [
        "a_list[1:5]: Imports the items from a_list[1] to a_list[5-1]."
      ]
    },
    {
      "cell_type": "code",
      "execution_count": 43,
      "metadata": {
        "id": "GoxFz1O9cK4-",
        "outputId": "a36be4a4-509c-43e2-cbd0-133213163229",
        "colab": {
          "base_uri": "https://localhost:8080/"
        }
      },
      "outputs": [
        {
          "output_type": "execute_result",
          "data": {
            "text/plain": [
              "[20, 30, 40, 50]"
            ]
          },
          "metadata": {},
          "execution_count": 43
        }
      ],
      "source": [
        "a_list = [10, 20, 30, 40, 50, 60, 70, 80]\n",
        "a_list[1:5]"
      ]
    },
    {
      "cell_type": "markdown",
      "metadata": {
        "id": "h3_PKQ6OcK4_"
      },
      "source": [
        "#### 5.5. Omitting the last index"
      ]
    },
    {
      "cell_type": "markdown",
      "metadata": {
        "id": "VPWIRCUUcK4_"
      },
      "source": [
        "a_list[1:]: Import form a_list[1] until the last item of the list"
      ]
    },
    {
      "cell_type": "code",
      "execution_count": 44,
      "metadata": {
        "id": "txygMBRNcK4_",
        "outputId": "c6f8dd7a-156d-4ead-c4e3-10d46b5def35",
        "colab": {
          "base_uri": "https://localhost:8080/"
        }
      },
      "outputs": [
        {
          "output_type": "execute_result",
          "data": {
            "text/plain": [
              "[20, 30, 40, 50, 60, 70, 80]"
            ]
          },
          "metadata": {},
          "execution_count": 44
        }
      ],
      "source": [
        "a_list[1:]"
      ]
    },
    {
      "cell_type": "markdown",
      "metadata": {
        "id": "g23dxTDzcK5A"
      },
      "source": [
        "#### 5.6. Omitting both the start and end indices"
      ]
    },
    {
      "cell_type": "markdown",
      "metadata": {
        "id": "wvF1BRQ8cK5A"
      },
      "source": [
        "[:] method slicing: Import all items of the list"
      ]
    },
    {
      "cell_type": "code",
      "execution_count": 45,
      "metadata": {
        "id": "I0jahuGUcK5B",
        "outputId": "c691e3ad-b364-4792-8bb6-be9838a2e707",
        "colab": {
          "base_uri": "https://localhost:8080/"
        }
      },
      "outputs": [
        {
          "output_type": "execute_result",
          "data": {
            "text/plain": [
              "[10, 20, 30, 40, 50, 60, 70, 80]"
            ]
          },
          "metadata": {},
          "execution_count": 45
        }
      ],
      "source": [
        "a_list[:]"
      ]
    },
    {
      "cell_type": "markdown",
      "metadata": {
        "id": "UJlbhDeTcK5C"
      },
      "source": [
        "#### 5.7. List slicing of negative indices"
      ]
    },
    {
      "cell_type": "markdown",
      "metadata": {
        "id": "benqFkngcK5C"
      },
      "source": [
        "The index of the end element becomes -1, and the elements in front of it are assigned -2, -3, ..."
      ]
    },
    {
      "cell_type": "markdown",
      "metadata": {
        "id": "R-XNji8xcK5C"
      },
      "source": [
        "#### 5.8. Slicing with using negative indices"
      ]
    },
    {
      "cell_type": "markdown",
      "metadata": {
        "id": "NYlj9Sk2cK5D"
      },
      "source": [
        "a_list[-7: -2]: Import the items of a_list[-7] into a_list[-2-1] using the negative index range.\n",
        "As a result, it will include [20, 30, 40, 50, 60]."
      ]
    },
    {
      "cell_type": "code",
      "execution_count": 46,
      "metadata": {
        "id": "WYCbEdrwcK5D",
        "outputId": "f30abceb-f943-4ee2-9603-cd725763f603",
        "colab": {
          "base_uri": "https://localhost:8080/"
        }
      },
      "outputs": [
        {
          "output_type": "execute_result",
          "data": {
            "text/plain": [
              "[20, 30, 40, 50, 60]"
            ]
          },
          "metadata": {},
          "execution_count": 46
        }
      ],
      "source": [
        "a_list[-7:-2]"
      ]
    },
    {
      "cell_type": "markdown",
      "metadata": {
        "id": "jGyLjH97cK5E"
      },
      "source": [
        "#### 5.9. Omitting the last index from negative indices"
      ]
    },
    {
      "cell_type": "markdown",
      "metadata": {
        "id": "CJ48vFDGcK5E"
      },
      "source": [
        "If you omit the last index when using negative indices, it will import until the last items of the list as follows."
      ]
    },
    {
      "cell_type": "code",
      "execution_count": 47,
      "metadata": {
        "id": "FM2OifPQcK5E",
        "outputId": "b4bd8fd5-6554-4993-bbc3-83bb86f2551d",
        "colab": {
          "base_uri": "https://localhost:8080/"
        }
      },
      "outputs": [
        {
          "output_type": "execute_result",
          "data": {
            "text/plain": [
              "[20, 30, 40, 50, 60, 70, 80]"
            ]
          },
          "metadata": {},
          "execution_count": 47
        }
      ],
      "source": [
        "a_list[-7:]"
      ]
    },
    {
      "cell_type": "markdown",
      "metadata": {
        "id": "rcEYhP_BcK5F"
      },
      "source": [
        "####  5.10. Omitting the first index from negative indices"
      ]
    },
    {
      "cell_type": "markdown",
      "metadata": {
        "id": "Xve5QlXMcK5F"
      },
      "source": [
        "Omitting the first index is possible for slicing using negative indices.\n",
        "\n",
        "a_list[:-2]: Imports the indices from the first item up to (-2-1) = -3 index"
      ]
    },
    {
      "cell_type": "code",
      "execution_count": 48,
      "metadata": {
        "id": "Df0QCLS-cK5F",
        "outputId": "0e2efc2a-4b48-47e2-85db-ef8c76416df5",
        "colab": {
          "base_uri": "https://localhost:8080/"
        }
      },
      "outputs": [
        {
          "output_type": "execute_result",
          "data": {
            "text/plain": [
              "[10, 20, 30, 40, 50, 60]"
            ]
          },
          "metadata": {},
          "execution_count": 48
        }
      ],
      "source": [
        "a_list[:-2]"
      ]
    },
    {
      "cell_type": "markdown",
      "metadata": {
        "id": "0DtFLU1FcK5G"
      },
      "source": [
        "## 6. Examining Internal List Values"
      ]
    },
    {
      "cell_type": "markdown",
      "metadata": {
        "id": "bKL0EcLMcK5G"
      },
      "source": [
        "#### 6.1. in operator"
      ]
    },
    {
      "cell_type": "code",
      "execution_count": 49,
      "metadata": {
        "id": "aGet2muWcK5H",
        "outputId": "35f10f10-2dd0-42c3-ebf7-18d6d6698d72",
        "colab": {
          "base_uri": "https://localhost:8080/"
        }
      },
      "outputs": [
        {
          "output_type": "execute_result",
          "data": {
            "text/plain": [
              "True"
            ]
          },
          "metadata": {},
          "execution_count": 49
        }
      ],
      "source": [
        "a_list = [10, 20, 30, 40]\n",
        "10 in a_list"
      ]
    },
    {
      "cell_type": "code",
      "execution_count": 50,
      "metadata": {
        "id": "aoEQYRIrcK5H",
        "outputId": "131e171a-ac5d-449d-de2d-11809e610218",
        "colab": {
          "base_uri": "https://localhost:8080/"
        }
      },
      "outputs": [
        {
          "output_type": "execute_result",
          "data": {
            "text/plain": [
              "False"
            ]
          },
          "metadata": {},
          "execution_count": 50
        }
      ],
      "source": [
        "50 in a_list"
      ]
    },
    {
      "cell_type": "code",
      "execution_count": 51,
      "metadata": {
        "id": "MKvcsQfhcK5I",
        "outputId": "0ffd6056-89b5-4f23-d22d-778437403551",
        "colab": {
          "base_uri": "https://localhost:8080/"
        }
      },
      "outputs": [
        {
          "output_type": "execute_result",
          "data": {
            "text/plain": [
              "False"
            ]
          },
          "metadata": {},
          "execution_count": 51
        }
      ],
      "source": [
        "10 not in a_list"
      ]
    },
    {
      "cell_type": "code",
      "execution_count": 52,
      "metadata": {
        "id": "Pbw2PnC5cK5I",
        "outputId": "e0ceb096-827b-4202-fc10-ccd58ad7803b",
        "colab": {
          "base_uri": "https://localhost:8080/"
        }
      },
      "outputs": [
        {
          "output_type": "execute_result",
          "data": {
            "text/plain": [
              "True"
            ]
          },
          "metadata": {},
          "execution_count": 52
        }
      ],
      "source": [
        "50 not in a_list"
      ]
    },
    {
      "cell_type": "code",
      "execution_count": 53,
      "metadata": {
        "id": "4GuqHJT9cK5I",
        "outputId": "dc93c9e9-cfa1-4849-c149-665bba6362ab",
        "colab": {
          "base_uri": "https://localhost:8080/"
        }
      },
      "outputs": [
        {
          "output_type": "stream",
          "name": "stdout",
          "text": [
            "10 20 30 40 "
          ]
        }
      ],
      "source": [
        "for n in a_list:\n",
        "    print(n, end = \" \")"
      ]
    },
    {
      "cell_type": "markdown",
      "metadata": {
        "id": "xogAL1hqcK5J"
      },
      "source": [
        "#### 6.2. Using the in operator"
      ]
    },
    {
      "cell_type": "code",
      "execution_count": 54,
      "metadata": {
        "id": "EHQ1psnecK5J",
        "outputId": "d4597983-a736-4a29-a967-29bf3fae2851",
        "colab": {
          "base_uri": "https://localhost:8080/"
        }
      },
      "outputs": [
        {
          "output_type": "stream",
          "name": "stdout",
          "text": [
            "False\n",
            "True\n"
          ]
        }
      ],
      "source": [
        "n_list = [11, 22, 33, 44, 55, 66]\n",
        "print(80 in n_list) # 88 is not in the n_list\n",
        "print(55 in n_list) # 55 is in the n_list"
      ]
    },
    {
      "cell_type": "markdown",
      "metadata": {
        "id": "kT3X2shHcK5J"
      },
      "source": [
        "Avoid an error in advance by using the \"in\" operation.\n",
        "\n",
        "Check if there is a value to be deleted. Delete with the remove method only if there is a value for deletion."
      ]
    },
    {
      "cell_type": "code",
      "execution_count": 55,
      "metadata": {
        "id": "OvoQXcXScK5K",
        "outputId": "b20a615a-1919-4920-b17f-06a46ff41ae1",
        "colab": {
          "base_uri": "https://localhost:8080/"
        }
      },
      "outputs": [
        {
          "output_type": "stream",
          "name": "stdout",
          "text": [
            "[11, 22, 33, 44, 66]\n"
          ]
        }
      ],
      "source": [
        "n_list = [11, 22, 33, 44, 55, 66]\n",
        "if (55 in n_list):      # if 55 is an element of the list\n",
        "    n_list.remove(55)   # Delete 55 from the list\n",
        "if (88 in n_list):      # if 88 is an elemment of the list\n",
        "    n_list.remove(88)   # Delete 88 from the list\n",
        "print(n_list)"
      ]
    },
    {
      "cell_type": "markdown",
      "metadata": {
        "id": "4iHTwrWycK5K"
      },
      "source": [
        "## 7. Tuple"
      ]
    },
    {
      "cell_type": "markdown",
      "metadata": {
        "id": "P94wQaCGcK5K"
      },
      "source": [
        "#### 7.1. Immutable and mutable data types"
      ]
    },
    {
      "cell_type": "markdown",
      "metadata": {
        "id": "p5MY9Cs6cK5L"
      },
      "source": [
        "<img src='./images/Python data types.jpg' width='600'>"
      ]
    },
    {
      "cell_type": "markdown",
      "metadata": {
        "id": "2a7BWmlLcK5L"
      },
      "source": [
        "#### 7.2. Data type in which the values cannot be changed once created: Tuple"
      ]
    },
    {
      "cell_type": "code",
      "execution_count": 56,
      "metadata": {
        "id": "5OkWxBxmcK5L",
        "outputId": "ada2cfaf-166c-45c6-e47c-5cf6ee2a474e",
        "colab": {
          "base_uri": "https://localhost:8080/"
        }
      },
      "outputs": [
        {
          "output_type": "execute_result",
          "data": {
            "text/plain": [
              "('red', 'green', 'blue')"
            ]
          },
          "metadata": {},
          "execution_count": 56
        }
      ],
      "source": [
        "colors = (\"red\", \"green\", \"blue\")\n",
        "colors"
      ]
    },
    {
      "cell_type": "code",
      "execution_count": 57,
      "metadata": {
        "id": "A8lMnD1IcK5M",
        "outputId": "94d66e38-3da2-4e87-9c57-29e9af709137",
        "colab": {
          "base_uri": "https://localhost:8080/"
        }
      },
      "outputs": [
        {
          "output_type": "execute_result",
          "data": {
            "text/plain": [
              "(1, 2, 3, 4, 5)"
            ]
          },
          "metadata": {},
          "execution_count": 57
        }
      ],
      "source": [
        "numbers = (1, 2, 3, 4, 5)\n",
        "numbers"
      ]
    },
    {
      "cell_type": "code",
      "execution_count": 60,
      "metadata": {
        "id": "ZXQEko4TcK5M",
        "outputId": "c3bb71ce-1679-4f0d-9eec-906a888d2e61",
        "colab": {
          "base_uri": "https://localhost:8080/"
        }
      },
      "outputs": [
        {
          "output_type": "execute_result",
          "data": {
            "text/plain": [
              "1"
            ]
          },
          "metadata": {},
          "execution_count": 60
        }
      ],
      "source": [
        "t1 = (1, 2, 3, 4, 5)\n",
        "t1[0]"
      ]
    },
    {
      "cell_type": "markdown",
      "metadata": {
        "id": "1pTfU-YPcK5N"
      },
      "source": [
        "#### Q1. Create prime_list that has prime numbers between 2~10 as its elements. Then, use list indexing to the first element of the list and print as shown below."
      ]
    },
    {
      "cell_type": "code",
      "execution_count": 61,
      "metadata": {
        "id": "09R88RT3cK5N",
        "outputId": "a917f6c5-04fd-44f2-88b0-c7eb18c26058",
        "colab": {
          "base_uri": "https://localhost:8080/"
        }
      },
      "outputs": [
        {
          "output_type": "stream",
          "name": "stdout",
          "text": [
            "1st element of prime_list: 2\n"
          ]
        }
      ],
      "source": [
        "prime_list = [2, 3, 4, 5, 6, 7, 8, 9, 10]\n",
        "print('1st element of prime_list:', prime_list[0])"
      ]
    },
    {
      "cell_type": "markdown",
      "metadata": {
        "id": "q6-XTQ4ZcK5N"
      },
      "source": [
        "#### Q2. Create prime_list that has prime numbers between 1~10 as its elements. Then, use the append method to add 11."
      ]
    },
    {
      "cell_type": "code",
      "execution_count": 62,
      "metadata": {
        "id": "ce_Wvr7ycK5O",
        "outputId": "f20ce9e8-106c-4401-8a73-79bcda11c7e8",
        "colab": {
          "base_uri": "https://localhost:8080/"
        }
      },
      "outputs": [
        {
          "output_type": "stream",
          "name": "stdout",
          "text": [
            "Prime numbers : [2, 3, 5, 7]\n",
            "Prime numbers after addition : [2, 3, 5, 7, 11]\n"
          ]
        }
      ],
      "source": [
        "prime_list = [2, 3, 5, 7]\n",
        "print('Prime numbers :', prime_list)\n",
        "prime_list.append(11)\n",
        "print('Prime numbers after addition :', prime_list)"
      ]
    },
    {
      "cell_type": "markdown",
      "metadata": {
        "id": "b_mZ5OxncK5O"
      },
      "source": [
        "#### Q3. For the list1 and list2, use the nested for loop to multiply each elements of list1 and list2 and then print the result with the element multiplication result."
      ]
    },
    {
      "cell_type": "code",
      "execution_count": 63,
      "metadata": {
        "id": "1tJKeIaScK5P",
        "outputId": "af3cb26b-7e29-4308-f950-177c0e49a4d0",
        "colab": {
          "base_uri": "https://localhost:8080/"
        }
      },
      "outputs": [
        {
          "output_type": "stream",
          "name": "stdout",
          "text": [
            "3 * 2 = 6\n",
            "3 * 3 = 9\n",
            "3 * 4 = 12\n",
            "3 * 5 = 15\n",
            "3 * 6 = 18\n",
            "5 * 2 = 10\n",
            "5 * 3 = 15\n",
            "5 * 4 = 20\n",
            "5 * 5 = 25\n",
            "5 * 6 = 30\n",
            "7 * 2 = 14\n",
            "7 * 3 = 21\n",
            "7 * 4 = 28\n",
            "7 * 5 = 35\n",
            "7 * 6 = 42\n"
          ]
        }
      ],
      "source": [
        "list1 = [3, 5, 7]\n",
        "list2 = [2, 3, 4, 5, 6]\n",
        "for i in list1:\n",
        "    for j in list2:\n",
        "        print('{} * {} = {}'.format(i, j, i * j))"
      ]
    },
    {
      "cell_type": "markdown",
      "metadata": {
        "id": "BjVYqQZscK5P"
      },
      "source": [
        "## Let's Code"
      ]
    },
    {
      "cell_type": "markdown",
      "metadata": {
        "id": "LfIL8_aEcK5P"
      },
      "source": [
        "## 1. What is the list and why is it important?"
      ]
    },
    {
      "cell_type": "markdown",
      "metadata": {
        "id": "Aman73MxcK5Q"
      },
      "source": [
        "#### 1.1. Significance of the list"
      ]
    },
    {
      "cell_type": "code",
      "execution_count": 64,
      "metadata": {
        "id": "JvTsZnuScK5Q"
      },
      "outputs": [],
      "source": [
        "height1 = 178.9 # save the float type data\n",
        "height2 = 173.5 # save the float type data\n",
        "height3 = 166.1 # save the float type data\n",
        "height4 = 164.3 # save the float type data\n",
        "height5 = 176.4 # save the float type data"
      ]
    },
    {
      "cell_type": "code",
      "execution_count": 65,
      "metadata": {
        "id": "gLwj0Le9cK5Q",
        "outputId": "522399fc-cde9-4ee3-dc1c-d2f1ffef3ebf",
        "colab": {
          "base_uri": "https://localhost:8080/"
        }
      },
      "outputs": [
        {
          "output_type": "execute_result",
          "data": {
            "text/plain": [
              "[178.9, 173.5, 166.1, 164.3, 176.4]"
            ]
          },
          "metadata": {},
          "execution_count": 65
        }
      ],
      "source": [
        "heights = [178.9, 173.5, 166.1 , 164.3, 176.4]\n",
        "heights"
      ]
    },
    {
      "cell_type": "markdown",
      "metadata": {
        "id": "SQyAdXDqcK5R"
      },
      "source": [
        "#### 1.2. Create a list with multiple items"
      ]
    },
    {
      "cell_type": "code",
      "execution_count": 66,
      "metadata": {
        "id": "ZVGGlxtOcK5R"
      },
      "outputs": [],
      "source": [
        "bts = ['V', 'Jungkook', 'Jimin']"
      ]
    },
    {
      "cell_type": "code",
      "execution_count": 68,
      "metadata": {
        "id": "McBPltnTcK5S",
        "outputId": "1a44ddc8-a65a-4ad5-aabe-7513e57c0363",
        "colab": {
          "base_uri": "https://localhost:8080/"
        }
      },
      "outputs": [
        {
          "output_type": "execute_result",
          "data": {
            "text/plain": [
              "['V']"
            ]
          },
          "metadata": {},
          "execution_count": 68
        }
      ],
      "source": [
        "bts = []\n",
        "bts.append('V')\n",
        "bts"
      ]
    },
    {
      "cell_type": "code",
      "execution_count": 69,
      "metadata": {
        "id": "aZYOdP1_cK5S",
        "outputId": "b1c2f0da-c226-474e-a39f-45b468af06f0",
        "colab": {
          "base_uri": "https://localhost:8080/"
        }
      },
      "outputs": [
        {
          "output_type": "execute_result",
          "data": {
            "text/plain": [
              "['V']"
            ]
          },
          "metadata": {},
          "execution_count": 69
        }
      ],
      "source": [
        "bts = []\n",
        "bts = bts + [\"V\"]\n",
        "bts"
      ]
    },
    {
      "cell_type": "markdown",
      "metadata": {
        "id": "T9twU8NicK5T"
      },
      "source": [
        "## 2. Calculating the length, max, value and sum of the list"
      ]
    },
    {
      "cell_type": "markdown",
      "metadata": {
        "id": "ACjPW5GZcK5T"
      },
      "source": [
        "####  2.1. Built-in functions used in the list"
      ]
    },
    {
      "cell_type": "code",
      "execution_count": 70,
      "metadata": {
        "id": "smJbmSr-cK5T",
        "outputId": "88753f3b-f048-47d7-d257-3f864da3129f",
        "colab": {
          "base_uri": "https://localhost:8080/"
        }
      },
      "outputs": [
        {
          "output_type": "execute_result",
          "data": {
            "text/plain": [
              "5"
            ]
          },
          "metadata": {},
          "execution_count": 70
        }
      ],
      "source": [
        "n_list = [200, 700, 500, 300, 400]\n",
        "len(n_list)"
      ]
    },
    {
      "cell_type": "code",
      "execution_count": 71,
      "metadata": {
        "id": "MMTfuF87cK5U",
        "outputId": "200412b6-94ad-4c32-a25d-4c8ad0904169",
        "colab": {
          "base_uri": "https://localhost:8080/"
        }
      },
      "outputs": [
        {
          "output_type": "execute_result",
          "data": {
            "text/plain": [
              "700"
            ]
          },
          "metadata": {},
          "execution_count": 71
        }
      ],
      "source": [
        "max(n_list)"
      ]
    },
    {
      "cell_type": "code",
      "execution_count": 72,
      "metadata": {
        "id": "myn7L8dUcK5U",
        "outputId": "4db66e08-b2de-4c79-917c-a9b0f2f220f8",
        "colab": {
          "base_uri": "https://localhost:8080/"
        }
      },
      "outputs": [
        {
          "output_type": "execute_result",
          "data": {
            "text/plain": [
              "200"
            ]
          },
          "metadata": {},
          "execution_count": 72
        }
      ],
      "source": [
        "min(n_list)"
      ]
    },
    {
      "cell_type": "code",
      "execution_count": 73,
      "metadata": {
        "id": "ViWj9L-rcK5V",
        "outputId": "47c4dcc9-ddfb-4037-f7f9-1369f8525601",
        "colab": {
          "base_uri": "https://localhost:8080/"
        }
      },
      "outputs": [
        {
          "output_type": "execute_result",
          "data": {
            "text/plain": [
              "2100"
            ]
          },
          "metadata": {},
          "execution_count": 73
        }
      ],
      "source": [
        "sum(n_list)"
      ]
    },
    {
      "cell_type": "markdown",
      "metadata": {
        "id": "w1nSYA7jcK5V"
      },
      "source": [
        "#### 2.2. Applicable functions for the list"
      ]
    },
    {
      "cell_type": "code",
      "execution_count": 74,
      "metadata": {
        "id": "aeNy4UPUcK5W",
        "outputId": "24d3dd48-0124-4701-a2a9-ccdf64d8d16e",
        "colab": {
          "base_uri": "https://localhost:8080/"
        }
      },
      "outputs": [
        {
          "output_type": "execute_result",
          "data": {
            "text/plain": [
              "[1, 2, 3, 4, 5, 6, 7, 8, 9, 10]"
            ]
          },
          "metadata": {},
          "execution_count": 74
        }
      ],
      "source": [
        "list(range(1, 11))"
      ]
    },
    {
      "cell_type": "code",
      "execution_count": 75,
      "metadata": {
        "id": "9P3Y1JROcK5W"
      },
      "outputs": [],
      "source": [
        "n_list = [200, 700, 500, 300, 400]\n",
        "a_list = [0, '']"
      ]
    },
    {
      "cell_type": "code",
      "execution_count": 76,
      "metadata": {
        "id": "UOBAatqecK5W",
        "outputId": "ed6c8793-e860-4d78-d6ce-c37e9fd0500b",
        "colab": {
          "base_uri": "https://localhost:8080/"
        }
      },
      "outputs": [
        {
          "output_type": "execute_result",
          "data": {
            "text/plain": [
              "True"
            ]
          },
          "metadata": {},
          "execution_count": 76
        }
      ],
      "source": [
        "any(n_list)"
      ]
    },
    {
      "cell_type": "code",
      "execution_count": 77,
      "metadata": {
        "id": "an453TMwcK5X",
        "outputId": "9c08311b-4b9e-4dee-a665-2b2e768010b8",
        "colab": {
          "base_uri": "https://localhost:8080/"
        }
      },
      "outputs": [
        {
          "output_type": "execute_result",
          "data": {
            "text/plain": [
              "False"
            ]
          },
          "metadata": {},
          "execution_count": 77
        }
      ],
      "source": [
        "any(a_list)"
      ]
    },
    {
      "cell_type": "markdown",
      "metadata": {
        "id": "L_YddyORcK5Y"
      },
      "source": [
        "#### 2.3. Approaching to the list item using index"
      ]
    },
    {
      "cell_type": "code",
      "execution_count": 78,
      "metadata": {
        "id": "RV5hfcDwcK5Y"
      },
      "outputs": [],
      "source": [
        "letters = ['A', 'B', 'C', 'D', 'E', 'F']"
      ]
    },
    {
      "cell_type": "code",
      "execution_count": 79,
      "metadata": {
        "id": "KDxAPVp4cK5Z",
        "outputId": "22d04bad-9662-4583-c670-2f7f97d3d0ef",
        "colab": {
          "base_uri": "https://localhost:8080/",
          "height": 35
        }
      },
      "outputs": [
        {
          "output_type": "execute_result",
          "data": {
            "text/plain": [
              "'A'"
            ],
            "application/vnd.google.colaboratory.intrinsic+json": {
              "type": "string"
            }
          },
          "metadata": {},
          "execution_count": 79
        }
      ],
      "source": [
        "letters[0]"
      ]
    },
    {
      "cell_type": "code",
      "execution_count": 80,
      "metadata": {
        "id": "Utz4CZTycK5Z",
        "outputId": "42c66757-80f5-4728-bfa5-8a43f50b029b",
        "colab": {
          "base_uri": "https://localhost:8080/",
          "height": 35
        }
      },
      "outputs": [
        {
          "output_type": "execute_result",
          "data": {
            "text/plain": [
              "'B'"
            ],
            "application/vnd.google.colaboratory.intrinsic+json": {
              "type": "string"
            }
          },
          "metadata": {},
          "execution_count": 80
        }
      ],
      "source": [
        "letters[1]"
      ]
    },
    {
      "cell_type": "code",
      "execution_count": 81,
      "metadata": {
        "id": "RO1_pdodcK5a",
        "outputId": "00f7f668-c3b0-404f-ac71-d2f721922e3a",
        "colab": {
          "base_uri": "https://localhost:8080/",
          "height": 35
        }
      },
      "outputs": [
        {
          "output_type": "execute_result",
          "data": {
            "text/plain": [
              "'C'"
            ],
            "application/vnd.google.colaboratory.intrinsic+json": {
              "type": "string"
            }
          },
          "metadata": {},
          "execution_count": 81
        }
      ],
      "source": [
        "letters[2]"
      ]
    },
    {
      "cell_type": "code",
      "execution_count": 82,
      "metadata": {
        "id": "6DdM_7RccK5b",
        "outputId": "d30f283c-2731-48a6-e51b-4c2d96d236f2",
        "colab": {
          "base_uri": "https://localhost:8080/",
          "height": 35
        }
      },
      "outputs": [
        {
          "output_type": "execute_result",
          "data": {
            "text/plain": [
              "'F'"
            ],
            "application/vnd.google.colaboratory.intrinsic+json": {
              "type": "string"
            }
          },
          "metadata": {},
          "execution_count": 82
        }
      ],
      "source": [
        "letters[-1]"
      ]
    },
    {
      "cell_type": "markdown",
      "metadata": {
        "id": "m2QNPCsEcK5b"
      },
      "source": [
        "## 3. Adding list elements"
      ]
    },
    {
      "cell_type": "markdown",
      "metadata": {
        "id": "d_8WV-lycK5b"
      },
      "source": [
        "#### 3.1. Operating the list element value"
      ]
    },
    {
      "cell_type": "code",
      "execution_count": 83,
      "metadata": {
        "id": "GukRkbaocK5c",
        "outputId": "7073a76c-c0ef-479f-fb19-eefda8901b6f",
        "colab": {
          "base_uri": "https://localhost:8080/"
        }
      },
      "outputs": [
        {
          "output_type": "stream",
          "name": "stdout",
          "text": [
            "['David', 178.9, 'John', 173.5, 'Jane', 176.1]\n",
            "['David', 178.9, 'John', 173.5, 'Peter', 168.1, 'Jane', 176.1]\n"
          ]
        }
      ],
      "source": [
        "slist = ['David', 178.9, 'John', 173.5, 'Jane', 176.1]\n",
        "print(slist)\n",
        "slist.insert(4, 'Peter')\n",
        "slist.insert(5, 168.1)\n",
        "print(slist)"
      ]
    },
    {
      "cell_type": "markdown",
      "metadata": {
        "id": "Q-90z2SecK5c"
      },
      "source": [
        "## 4. Deleting list elements"
      ]
    },
    {
      "cell_type": "markdown",
      "metadata": {
        "id": "reCV5zf0cK5d"
      },
      "source": [
        "####  4.1. How to delete list item"
      ]
    },
    {
      "cell_type": "code",
      "execution_count": 84,
      "metadata": {
        "id": "-R_PSj2McK5d",
        "outputId": "01afa973-623f-4bdd-f189-31c06fd2923a",
        "colab": {
          "base_uri": "https://localhost:8080/"
        }
      },
      "outputs": [
        {
          "output_type": "execute_result",
          "data": {
            "text/plain": [
              "['V', 'J-Hope', 'Suga']"
            ]
          },
          "metadata": {},
          "execution_count": 84
        }
      ],
      "source": [
        "bts = [\"V\", \"J-Hope\", \"Suga\", \"Jungkook\"]\n",
        "bts.remove(\"Jungkook\")\n",
        "bts"
      ]
    },
    {
      "cell_type": "code",
      "execution_count": 85,
      "metadata": {
        "id": "CnVoXothcK5e",
        "outputId": "405ba9c7-14ed-44f4-8f35-6f0e81539446",
        "colab": {
          "base_uri": "https://localhost:8080/"
        }
      },
      "outputs": [
        {
          "output_type": "stream",
          "name": "stdout",
          "text": [
            "['V', 'J-Hope']\n"
          ]
        }
      ],
      "source": [
        "if 'Suga' in bts:\n",
        "    bts.remove('Suga')\n",
        "print(bts)"
      ]
    },
    {
      "cell_type": "code",
      "execution_count": 86,
      "metadata": {
        "id": "83lsskivcK5e",
        "outputId": "f8880233-b697-4ada-f3f2-364278d55ed7",
        "colab": {
          "base_uri": "https://localhost:8080/"
        }
      },
      "outputs": [
        {
          "output_type": "stream",
          "name": "stdout",
          "text": [
            "Jungkook\n",
            "['V', 'J-Hope', 'Suga']\n"
          ]
        }
      ],
      "source": [
        "bts = [\"V\", \"J-Hope\", \"Suga\", \"Jungkook\"]\n",
        "last_member = bts.pop() # Delete and return the last item 'Jungkook'\n",
        "print(last_member)\n",
        "print(bts)"
      ]
    },
    {
      "cell_type": "markdown",
      "metadata": {
        "id": "-dGTpoglcK5f"
      },
      "source": [
        "#### 4.2. Cautions for deleting list item"
      ]
    },
    {
      "cell_type": "code",
      "execution_count": 94,
      "metadata": {
        "id": "NDmgKCXxcK5f",
        "outputId": "a39dc012-d5b3-403d-eaab-bc03408c805f",
        "colab": {
          "base_uri": "https://localhost:8080/"
        }
      },
      "outputs": [
        {
          "output_type": "execute_result",
          "data": {
            "text/plain": [
              "['J-Hope', 'Suga', 'Jungkook']"
            ]
          },
          "metadata": {},
          "execution_count": 94
        }
      ],
      "source": [
        "bts = [\"V\", \"J-Hope\", \"Suga\", \"Jungkook\"]\n",
        "del bts[0]\n",
        "bts"
      ]
    },
    {
      "cell_type": "code",
      "execution_count": 95,
      "metadata": {
        "id": "1xHl7sU7cK5g"
      },
      "outputs": [],
      "source": [
        "del bts[2]"
      ]
    },
    {
      "cell_type": "markdown",
      "metadata": {
        "id": "wF9BErd9cK5g"
      },
      "source": [
        "## 5. List Slicing"
      ]
    },
    {
      "cell_type": "markdown",
      "metadata": {
        "id": "zNTY9OoVcK5g"
      },
      "source": [
        "#### 5.1. Slicing method"
      ]
    },
    {
      "cell_type": "code",
      "execution_count": 96,
      "metadata": {
        "id": "cDrrTlZWcK5h"
      },
      "outputs": [],
      "source": [
        "letters = ['A', 'B', 'C', 'D', 'E', 'F']"
      ]
    },
    {
      "cell_type": "code",
      "execution_count": 97,
      "metadata": {
        "id": "XkBe2kSJcK5h",
        "outputId": "ba8e2599-dfab-4018-b45e-16d5281d28c5",
        "colab": {
          "base_uri": "https://localhost:8080/"
        }
      },
      "outputs": [
        {
          "output_type": "execute_result",
          "data": {
            "text/plain": [
              "['C', 'D', 'E']"
            ]
          },
          "metadata": {},
          "execution_count": 97
        }
      ],
      "source": [
        "letters[2:5] # Slicing from 3rd item to 5th of the list"
      ]
    },
    {
      "cell_type": "code",
      "execution_count": 98,
      "metadata": {
        "id": "KQe2Ab49cK5i",
        "outputId": "e5e86f0f-44a8-42e8-9fc9-1bd5331e5815",
        "colab": {
          "base_uri": "https://localhost:8080/"
        }
      },
      "outputs": [
        {
          "output_type": "execute_result",
          "data": {
            "text/plain": [
              "['A', 'B', 'C']"
            ]
          },
          "metadata": {},
          "execution_count": 98
        }
      ],
      "source": [
        "letters[:3]"
      ]
    },
    {
      "cell_type": "code",
      "execution_count": 99,
      "metadata": {
        "id": "y6sepHqacK5i",
        "outputId": "d24621f5-aa16-4b7d-a5de-71b1f0f51cc7",
        "colab": {
          "base_uri": "https://localhost:8080/"
        }
      },
      "outputs": [
        {
          "output_type": "execute_result",
          "data": {
            "text/plain": [
              "['D', 'E', 'F']"
            ]
          },
          "metadata": {},
          "execution_count": 99
        }
      ],
      "source": [
        "letters[3:]"
      ]
    },
    {
      "cell_type": "code",
      "execution_count": 100,
      "metadata": {
        "id": "Wu--sWMXcK5i",
        "outputId": "e2c895d5-e589-4147-c1c9-81dd9274e03d",
        "colab": {
          "base_uri": "https://localhost:8080/"
        }
      },
      "outputs": [
        {
          "output_type": "execute_result",
          "data": {
            "text/plain": [
              "['A', 'B', 'C', 'D', 'E', 'F']"
            ]
          },
          "metadata": {},
          "execution_count": 100
        }
      ],
      "source": [
        "letters[:] #The colone refers to from the start to the end"
      ]
    },
    {
      "cell_type": "code",
      "execution_count": 101,
      "metadata": {
        "id": "4FvEJvgqcK5j",
        "outputId": "486cadc8-328c-4d44-d74f-36ca256ea959",
        "colab": {
          "base_uri": "https://localhost:8080/"
        }
      },
      "outputs": [
        {
          "output_type": "execute_result",
          "data": {
            "text/plain": [
              "['A', 'C', 'E']"
            ]
          },
          "metadata": {},
          "execution_count": 101
        }
      ],
      "source": [
        "letters[::2] # Read the list from the start to the end, but skip with the step"
      ]
    },
    {
      "cell_type": "code",
      "execution_count": 102,
      "metadata": {
        "id": "OYPz5YaacK5j",
        "outputId": "3fb2a1dd-10ce-4c6b-b8e7-78939d483f59",
        "colab": {
          "base_uri": "https://localhost:8080/"
        }
      },
      "outputs": [
        {
          "output_type": "execute_result",
          "data": {
            "text/plain": [
              "['F', 'E', 'D', 'C', 'B', 'A']"
            ]
          },
          "metadata": {},
          "execution_count": 102
        }
      ],
      "source": [
        "letters[::-1] # Read from back to the front to create elements"
      ]
    },
    {
      "cell_type": "markdown",
      "metadata": {
        "id": "q4eV-rSjcK5k"
      },
      "source": [
        "## 6. Different methods of the list"
      ]
    },
    {
      "cell_type": "markdown",
      "metadata": {
        "id": "5vgAeWEOcK5k"
      },
      "source": [
        "#### 6.1. Sorting methods"
      ]
    },
    {
      "cell_type": "markdown",
      "metadata": {
        "id": "1VAsn3ewcK5l"
      },
      "source": [
        "Sorting method - sort.\n",
        "- Ascending sort is the default\n",
        "- Write a period (.) and \"sort\" after the list variable\n",
        "\n",
        "\n",
        "Sort ascending:\n",
        "- Sort with increasing value\n",
        "\n",
        "Sort descending:\n",
        "- Sort with decreasing value"
      ]
    },
    {
      "cell_type": "markdown",
      "metadata": {
        "id": "GvBbVnuNcK5l"
      },
      "source": [
        "#### 6.2. Sorting methos: sort"
      ]
    },
    {
      "cell_type": "code",
      "execution_count": 103,
      "metadata": {
        "id": "USTWDqVIcK5m",
        "outputId": "3edc437d-48ec-4575-ec58-3a84e470c5cb",
        "colab": {
          "base_uri": "https://localhost:8080/"
        }
      },
      "outputs": [
        {
          "output_type": "execute_result",
          "data": {
            "text/plain": [
              "[10, 20, 30, 40, 50]"
            ]
          },
          "metadata": {},
          "execution_count": 103
        }
      ],
      "source": [
        "list1 = [20, 10, 40, 50, 30]\n",
        "list1.sort() # Ascending order sorting of the list1 elements\n",
        "list1"
      ]
    },
    {
      "cell_type": "code",
      "execution_count": 104,
      "metadata": {
        "id": "y_EXf_HAcK5n",
        "outputId": "c2e39506-a6a1-49b9-ea7d-931865db3600",
        "colab": {
          "base_uri": "https://localhost:8080/"
        }
      },
      "outputs": [
        {
          "output_type": "stream",
          "name": "stdout",
          "text": [
            "[50, 40, 30, 20, 10]\n"
          ]
        }
      ],
      "source": [
        "list1.sort(reverse = True)\n",
        "print(list1)"
      ]
    },
    {
      "cell_type": "markdown",
      "metadata": {
        "id": "wfxni7eYcK5o"
      },
      "source": [
        "#### 6.3. Methods provided by the list"
      ]
    },
    {
      "cell_type": "markdown",
      "metadata": {
        "id": "MdDnDOGMcK5o"
      },
      "source": [
        "<table>\n",
        "<tr>\n",
        "   <td><strong>Method</strong></td>\n",
        "   <td><strong>Function</strong></td>\n",
        "<tr>\n",
        "   <td>index( x )</td>\n",
        "   <td>Find a place using the x element.</td>\n",
        "<tr>\n",
        "   <td>append(x)</td>\n",
        "   <td>Adds the element x to the end of the list.</td>\n",
        "<tr>\n",
        "   <td>count( x )</td>\n",
        "   <td>Returns the number of elements of the object within the list</td>\n",
        "<tr>\n",
        "   <td>extend([x1, x2])</td>\n",
        "   <td>Inserts the list [x1, x2] into the list.</td>\n",
        "</tr>\n",
        "   <td>insert(index, x)</td>\n",
        "   <td>Adds the x to the desired index location.</td>\n",
        "</tr>\n",
        "   <td>remove( x )</td>\n",
        "   <td>Remove element x from the list.</td>\n",
        "</tr>\n",
        "   <td>pop(index)</td>\n",
        "   <td>Deletes the element at the index position and returns it. <br>If so, the index can be omitted, which will clear and return the last item in the list.\n",
        "</td>\n",
        "</tr>\n",
        "   <td>sort()</td>\n",
        "   <td>Sorts the values in ascending order. <br>If the value of the inverse argument is True, a descending sort is performed</td>\n",
        "</tr>\n",
        "   <td>reverse()</td>\n",
        "   <td>Does a reverse order of the elements of the list.</td>\n",
        "</tr>\n",
        "</table>"
      ]
    },
    {
      "cell_type": "markdown",
      "source": [],
      "metadata": {
        "id": "xa5nTlla_72z"
      }
    },
    {
      "cell_type": "markdown",
      "metadata": {
        "id": "CCRWM7HbcK5p"
      },
      "source": [
        "#### Q1. There is a list with the string s_list = ['abc', 'bcd', 'bcdefg', 'abba', 'cddc', 'opq']. Implement the following functions to this list.\n",
        "#### Output example: The shortest string : abc"
      ]
    },
    {
      "cell_type": "code",
      "execution_count": 105,
      "metadata": {
        "id": "THcaea9GcK5p",
        "outputId": "257b7370-be9f-4958-d692-31f21ef6397d",
        "colab": {
          "base_uri": "https://localhost:8080/"
        }
      },
      "outputs": [
        {
          "output_type": "stream",
          "name": "stdout",
          "text": [
            "The shortes string : abc\n"
          ]
        }
      ],
      "source": [
        "s_list = ['abc', 'bcd', 'bcdefg', 'abba', 'cddc', 'opq']\n",
        "for i in s_list:\n",
        "    if len(i) < len(s_list[4]):\n",
        "        s_list[0] = i\n",
        "print('The shortes string :', s_list[3])"
      ]
    },
    {
      "cell_type": "markdown",
      "metadata": {
        "id": "fOBWc9U9cK5p"
      },
      "source": [
        "#### Q2. There is a list with the string s_list = ['abc', 'bcd', 'bcdefg', 'abba', 'cddc', 'opq']. Implements the following function to this list.\n",
        "#### Output example: The longest string : bcdefg"
      ]
    },
    {
      "cell_type": "code",
      "execution_count": 106,
      "metadata": {
        "id": "oSVzvnqAcK5q",
        "outputId": "3c84bf6a-4252-4413-820a-e2f9917a96d7",
        "colab": {
          "base_uri": "https://localhost:8080/"
        }
      },
      "outputs": [
        {
          "output_type": "stream",
          "name": "stdout",
          "text": [
            "The longest string : bcdefg\n"
          ]
        }
      ],
      "source": [
        "s_list = ['abc', 'bcd', 'bcdefg', 'abba', 'cddc', 'opq']\n",
        "for i in s_list:\n",
        "    if len(i) > len(s_list[0]):\n",
        "        s_list[0] = i\n",
        "print('The longest string :', s_list[0])"
      ]
    },
    {
      "cell_type": "markdown",
      "metadata": {
        "id": "FZHhldxIcK5q"
      },
      "source": [
        "#### Q3. There is the list with the string s_list = ['abc', 'bcd', 'bcdefg', 'abba', 'cddc', 'opq']. Implement the following function to this list.\n",
        "#### Output example: The shortest string : abc, bcd, opq"
      ]
    },
    {
      "cell_type": "code",
      "execution_count": 107,
      "metadata": {
        "id": "E_IqBnckcK5r",
        "outputId": "5f340496-1645-47da-814a-68ca9e18c8f9",
        "colab": {
          "base_uri": "https://localhost:8080/"
        }
      },
      "outputs": [
        {
          "output_type": "stream",
          "name": "stdout",
          "text": [
            "abc\n",
            "bcd\n",
            "opq\n"
          ]
        }
      ],
      "source": [
        "s_list = ['abc', 'bcd', 'bcdefg', 'abba', 'cddc', 'opq']\n",
        "s_list.sort(key=len)\n",
        "for i in s_list:\n",
        "    if len(i) == len(s_list[0]): print(i)"
      ]
    },
    {
      "cell_type": "code",
      "execution_count": 108,
      "metadata": {
        "id": "ocfjAqEecK5r",
        "outputId": "f175d29a-773f-49fb-e450-0d224759e970",
        "colab": {
          "base_uri": "https://localhost:8080/"
        }
      },
      "outputs": [
        {
          "output_type": "stream",
          "name": "stdout",
          "text": [
            "The shortest string : ['abc', 'bcd', 'opq']\n"
          ]
        }
      ],
      "source": [
        "s_list = ['abc', 'bcd', 'bcdefg', 'abba', 'cddc', 'opq']\n",
        "s_list.sort(key=len)\n",
        "print('The shortest string :', [i for i in s_list if len(i) == len(s_list[0])])"
      ]
    },
    {
      "cell_type": "code",
      "source": [],
      "metadata": {
        "id": "C1Fxx8os9k1P"
      },
      "execution_count": 108,
      "outputs": []
    }
  ],
  "metadata": {
    "kernelspec": {
      "display_name": "Python 3",
      "language": "python",
      "name": "python3"
    },
    "language_info": {
      "codemirror_mode": {
        "name": "ipython",
        "version": 3
      },
      "file_extension": ".py",
      "mimetype": "text/x-python",
      "name": "python",
      "nbconvert_exporter": "python",
      "pygments_lexer": "ipython3",
      "version": "3.10.11"
    },
    "orig_nbformat": 4,
    "colab": {
      "provenance": [],
      "include_colab_link": true
    }
  },
  "nbformat": 4,
  "nbformat_minor": 0
}